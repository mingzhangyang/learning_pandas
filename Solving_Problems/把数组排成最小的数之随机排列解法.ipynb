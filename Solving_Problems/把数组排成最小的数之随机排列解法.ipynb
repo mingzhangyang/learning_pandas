{
 "cells": [
  {
   "cell_type": "code",
   "execution_count": 1,
   "metadata": {
    "collapsed": true
   },
   "outputs": [],
   "source": [
    "import numpy as np\n",
    "import pandas as pd"
   ]
  },
  {
   "cell_type": "code",
   "execution_count": 2,
   "metadata": {
    "collapsed": false
   },
   "outputs": [],
   "source": [
    "g = np.random.permutation(range(10))"
   ]
  },
  {
   "cell_type": "code",
   "execution_count": 3,
   "metadata": {
    "collapsed": true
   },
   "outputs": [],
   "source": [
    "for i in range(50):\n",
    "    g = np.append(g, np.random.permutation(range(10)), axis=0)\n"
   ]
  },
  {
   "cell_type": "code",
   "execution_count": 4,
   "metadata": {
    "collapsed": false
   },
   "outputs": [
    {
     "data": {
      "text/plain": [
       "510"
      ]
     },
     "execution_count": 4,
     "metadata": {},
     "output_type": "execute_result"
    }
   ],
   "source": [
    "len(g)"
   ]
  },
  {
   "cell_type": "code",
   "execution_count": 5,
   "metadata": {
    "collapsed": false
   },
   "outputs": [
    {
     "data": {
      "text/plain": [
       "array([8, 2, 5, 7, 1, 4, 0, 6, 3, 9, 5, 0, 3, 2, 4, 9, 6, 7, 1, 8, 0, 7, 2,\n",
       "       8, 9, 3, 1, 4, 5, 6, 9, 6, 0, 1, 7, 3, 4, 5, 8, 2, 3, 0, 5, 9, 4, 6,\n",
       "       1, 8, 2, 7, 3, 2, 1, 0, 9, 4, 8, 5, 6, 7, 2, 9, 7, 0, 6, 4, 8, 3, 1,\n",
       "       5, 5, 3, 9, 2, 8, 7, 6, 1, 4, 0, 8, 7, 0, 5, 9, 6, 2, 3, 1, 4, 4, 8,\n",
       "       6, 3, 9, 0, 2, 1, 5, 7, 8, 5, 0, 4, 2, 6, 7, 1, 3, 9, 3, 1, 8, 9, 4,\n",
       "       2, 6, 0, 7, 5, 1, 7, 2, 6, 9, 0, 4, 3, 5, 8, 5, 7, 6, 4, 9, 2, 3, 0,\n",
       "       8, 1, 3, 0, 5, 8, 2, 1, 9, 6, 4, 7, 3, 9, 7, 6, 5, 2, 4, 8, 1, 0, 0,\n",
       "       1, 8, 5, 2, 9, 7, 6, 4, 3, 8, 2, 9, 1, 5, 6, 4, 0, 7, 3, 0, 3, 4, 1,\n",
       "       6, 8, 5, 2, 9, 7, 3, 4, 7, 5, 1, 2, 8, 9, 6, 0, 5, 4, 0, 2, 6, 7, 8,\n",
       "       1, 9, 3, 9, 1, 2, 6, 3, 5, 4, 7, 8, 0, 7, 9, 3, 2, 0, 1, 6, 8, 4, 5,\n",
       "       5, 1, 0, 7, 6, 4, 8, 2, 3, 9, 9, 1, 2, 8, 4, 3, 7, 6, 0, 5, 2, 3, 8,\n",
       "       4, 7, 0, 9, 5, 6, 1, 4, 0, 1, 3, 7, 8, 9, 6, 2, 5, 4, 7, 2, 9, 0, 3,\n",
       "       5, 1, 8, 6, 5, 1, 3, 2, 7, 6, 0, 9, 4, 8, 9, 4, 2, 7, 3, 0, 1, 8, 5,\n",
       "       6, 0, 9, 3, 7, 1, 8, 2, 6, 4, 5, 3, 0, 8, 5, 1, 6, 4, 7, 9, 2, 0, 5,\n",
       "       9, 1, 3, 6, 8, 7, 2, 4, 6, 2, 9, 3, 7, 0, 1, 4, 8, 5, 2, 3, 8, 6, 1,\n",
       "       5, 7, 0, 9, 4, 4, 0, 7, 9, 3, 5, 2, 1, 8, 6, 2, 3, 8, 0, 1, 5, 9, 7,\n",
       "       6, 4, 5, 0, 3, 6, 9, 8, 1, 7, 4, 2, 2, 7, 3, 1, 4, 9, 8, 5, 0, 6, 5,\n",
       "       2, 4, 1, 7, 6, 0, 3, 9, 8, 0, 8, 2, 9, 1, 6, 4, 3, 7, 5, 7, 1, 0, 9,\n",
       "       8, 6, 2, 4, 3, 5, 0, 5, 4, 2, 3, 7, 9, 6, 1, 8, 3, 0, 9, 7, 6, 2, 1,\n",
       "       4, 5, 8, 4, 8, 2, 1, 9, 5, 7, 3, 6, 0, 4, 2, 7, 3, 0, 1, 8, 9, 5, 6,\n",
       "       3, 2, 7, 9, 0, 1, 4, 5, 8, 6, 9, 5, 6, 2, 4, 1, 8, 3, 7, 0, 6, 1, 4,\n",
       "       2, 0, 7, 5, 3, 9, 8, 1, 4, 2, 7, 0, 3, 8, 9, 6, 5, 2, 0, 8, 5, 1, 9,\n",
       "       6, 3, 4, 7])"
      ]
     },
     "execution_count": 5,
     "metadata": {},
     "output_type": "execute_result"
    }
   ],
   "source": [
    "g"
   ]
  },
  {
   "cell_type": "code",
   "execution_count": 6,
   "metadata": {
    "collapsed": false
   },
   "outputs": [
    {
     "data": {
      "text/plain": [
       "array([[8, 2, 5, 7, 1, 4, 0, 6, 3, 9],\n",
       "       [5, 0, 3, 2, 4, 9, 6, 7, 1, 8],\n",
       "       [0, 7, 2, 8, 9, 3, 1, 4, 5, 6],\n",
       "       [9, 6, 0, 1, 7, 3, 4, 5, 8, 2],\n",
       "       [3, 0, 5, 9, 4, 6, 1, 8, 2, 7],\n",
       "       [3, 2, 1, 0, 9, 4, 8, 5, 6, 7],\n",
       "       [2, 9, 7, 0, 6, 4, 8, 3, 1, 5],\n",
       "       [5, 3, 9, 2, 8, 7, 6, 1, 4, 0],\n",
       "       [8, 7, 0, 5, 9, 6, 2, 3, 1, 4],\n",
       "       [4, 8, 6, 3, 9, 0, 2, 1, 5, 7],\n",
       "       [8, 5, 0, 4, 2, 6, 7, 1, 3, 9],\n",
       "       [3, 1, 8, 9, 4, 2, 6, 0, 7, 5],\n",
       "       [1, 7, 2, 6, 9, 0, 4, 3, 5, 8],\n",
       "       [5, 7, 6, 4, 9, 2, 3, 0, 8, 1],\n",
       "       [3, 0, 5, 8, 2, 1, 9, 6, 4, 7],\n",
       "       [3, 9, 7, 6, 5, 2, 4, 8, 1, 0],\n",
       "       [0, 1, 8, 5, 2, 9, 7, 6, 4, 3],\n",
       "       [8, 2, 9, 1, 5, 6, 4, 0, 7, 3],\n",
       "       [0, 3, 4, 1, 6, 8, 5, 2, 9, 7],\n",
       "       [3, 4, 7, 5, 1, 2, 8, 9, 6, 0],\n",
       "       [5, 4, 0, 2, 6, 7, 8, 1, 9, 3],\n",
       "       [9, 1, 2, 6, 3, 5, 4, 7, 8, 0],\n",
       "       [7, 9, 3, 2, 0, 1, 6, 8, 4, 5],\n",
       "       [5, 1, 0, 7, 6, 4, 8, 2, 3, 9],\n",
       "       [9, 1, 2, 8, 4, 3, 7, 6, 0, 5],\n",
       "       [2, 3, 8, 4, 7, 0, 9, 5, 6, 1],\n",
       "       [4, 0, 1, 3, 7, 8, 9, 6, 2, 5],\n",
       "       [4, 7, 2, 9, 0, 3, 5, 1, 8, 6],\n",
       "       [5, 1, 3, 2, 7, 6, 0, 9, 4, 8],\n",
       "       [9, 4, 2, 7, 3, 0, 1, 8, 5, 6],\n",
       "       [0, 9, 3, 7, 1, 8, 2, 6, 4, 5],\n",
       "       [3, 0, 8, 5, 1, 6, 4, 7, 9, 2],\n",
       "       [0, 5, 9, 1, 3, 6, 8, 7, 2, 4],\n",
       "       [6, 2, 9, 3, 7, 0, 1, 4, 8, 5],\n",
       "       [2, 3, 8, 6, 1, 5, 7, 0, 9, 4],\n",
       "       [4, 0, 7, 9, 3, 5, 2, 1, 8, 6],\n",
       "       [2, 3, 8, 0, 1, 5, 9, 7, 6, 4],\n",
       "       [5, 0, 3, 6, 9, 8, 1, 7, 4, 2],\n",
       "       [2, 7, 3, 1, 4, 9, 8, 5, 0, 6],\n",
       "       [5, 2, 4, 1, 7, 6, 0, 3, 9, 8],\n",
       "       [0, 8, 2, 9, 1, 6, 4, 3, 7, 5],\n",
       "       [7, 1, 0, 9, 8, 6, 2, 4, 3, 5],\n",
       "       [0, 5, 4, 2, 3, 7, 9, 6, 1, 8],\n",
       "       [3, 0, 9, 7, 6, 2, 1, 4, 5, 8],\n",
       "       [4, 8, 2, 1, 9, 5, 7, 3, 6, 0],\n",
       "       [4, 2, 7, 3, 0, 1, 8, 9, 5, 6],\n",
       "       [3, 2, 7, 9, 0, 1, 4, 5, 8, 6],\n",
       "       [9, 5, 6, 2, 4, 1, 8, 3, 7, 0],\n",
       "       [6, 1, 4, 2, 0, 7, 5, 3, 9, 8],\n",
       "       [1, 4, 2, 7, 0, 3, 8, 9, 6, 5],\n",
       "       [2, 0, 8, 5, 1, 9, 6, 3, 4, 7]])"
      ]
     },
     "execution_count": 6,
     "metadata": {},
     "output_type": "execute_result"
    }
   ],
   "source": [
    "g.reshape(51, 10)"
   ]
  },
  {
   "cell_type": "code",
   "execution_count": 7,
   "metadata": {
    "collapsed": true
   },
   "outputs": [],
   "source": [
    "def factorial(n):\n",
    "    r = 1\n",
    "    for i in range(1, n+1):\n",
    "        r *= i\n",
    "    return r\n",
    "        "
   ]
  },
  {
   "cell_type": "code",
   "execution_count": 8,
   "metadata": {
    "collapsed": false
   },
   "outputs": [
    {
     "data": {
      "text/plain": [
       "3628800"
      ]
     },
     "execution_count": 8,
     "metadata": {},
     "output_type": "execute_result"
    }
   ],
   "source": [
    "factorial(10)"
   ]
  },
  {
   "cell_type": "code",
   "execution_count": 9,
   "metadata": {
    "collapsed": true
   },
   "outputs": [],
   "source": [
    "def random_index(n, depth=30):\n",
    "    depth = factorial(n) * depth\n",
    "    g = np.random.permutation(range(n))\n",
    "    for i in range(depth-1):\n",
    "        g = np.append(g, np.random.permutation(range(n)))\n",
    "    return g.reshape((depth, n))"
   ]
  },
  {
   "cell_type": "code",
   "execution_count": 10,
   "metadata": {
    "collapsed": false
   },
   "outputs": [
    {
     "data": {
      "text/plain": [
       "array([[1, 2, 0, 3, 4],\n",
       "       [3, 0, 1, 4, 2],\n",
       "       [3, 2, 4, 0, 1],\n",
       "       ..., \n",
       "       [4, 0, 2, 1, 3],\n",
       "       [3, 0, 1, 4, 2],\n",
       "       [0, 3, 1, 4, 2]])"
      ]
     },
     "execution_count": 10,
     "metadata": {},
     "output_type": "execute_result"
    }
   ],
   "source": [
    "random_index(5)"
   ]
  },
  {
   "cell_type": "code",
   "execution_count": 11,
   "metadata": {
    "collapsed": true
   },
   "outputs": [],
   "source": [
    "x = pd.DataFrame(random_index(5))"
   ]
  },
  {
   "cell_type": "code",
   "execution_count": 12,
   "metadata": {
    "collapsed": false
   },
   "outputs": [
    {
     "data": {
      "text/plain": [
       "3600"
      ]
     },
     "execution_count": 12,
     "metadata": {},
     "output_type": "execute_result"
    }
   ],
   "source": [
    "len(x)"
   ]
  },
  {
   "cell_type": "code",
   "execution_count": 13,
   "metadata": {
    "collapsed": false
   },
   "outputs": [],
   "source": [
    "alist = [3, 29, 675, 4932, 5]"
   ]
  },
  {
   "cell_type": "code",
   "execution_count": 14,
   "metadata": {
    "collapsed": true
   },
   "outputs": [],
   "source": [
    "def random_elements(alist, depth = 30):\n",
    "    depth = factorial(len(alist)) * 30\n",
    "    g = np.random.permutation(alist)\n",
    "    for i in range(depth - 1):\n",
    "        g = np.append(g, np.random.permutation(alist), axis = 0)\n",
    "    return g.reshape((depth, len(alist)))\n",
    "        \n",
    "    "
   ]
  },
  {
   "cell_type": "code",
   "execution_count": 15,
   "metadata": {
    "collapsed": false
   },
   "outputs": [],
   "source": [
    "r = random_elements(alist)"
   ]
  },
  {
   "cell_type": "code",
   "execution_count": 16,
   "metadata": {
    "collapsed": false
   },
   "outputs": [
    {
     "data": {
      "text/plain": [
       "3600"
      ]
     },
     "execution_count": 16,
     "metadata": {},
     "output_type": "execute_result"
    }
   ],
   "source": [
    "len(r)"
   ]
  },
  {
   "cell_type": "code",
   "execution_count": 17,
   "metadata": {
    "collapsed": true
   },
   "outputs": [],
   "source": [
    "r = pd.DataFrame(r)"
   ]
  },
  {
   "cell_type": "code",
   "execution_count": 18,
   "metadata": {
    "collapsed": false
   },
   "outputs": [
    {
     "data": {
      "text/html": [
       "<div>\n",
       "<table border=\"1\" class=\"dataframe\">\n",
       "  <thead>\n",
       "    <tr style=\"text-align: right;\">\n",
       "      <th></th>\n",
       "      <th>0</th>\n",
       "      <th>1</th>\n",
       "      <th>2</th>\n",
       "      <th>3</th>\n",
       "      <th>4</th>\n",
       "    </tr>\n",
       "  </thead>\n",
       "  <tbody>\n",
       "    <tr>\n",
       "      <th>0</th>\n",
       "      <td>675</td>\n",
       "      <td>29</td>\n",
       "      <td>4932</td>\n",
       "      <td>5</td>\n",
       "      <td>3</td>\n",
       "    </tr>\n",
       "    <tr>\n",
       "      <th>1</th>\n",
       "      <td>675</td>\n",
       "      <td>3</td>\n",
       "      <td>29</td>\n",
       "      <td>5</td>\n",
       "      <td>4932</td>\n",
       "    </tr>\n",
       "    <tr>\n",
       "      <th>2</th>\n",
       "      <td>3</td>\n",
       "      <td>5</td>\n",
       "      <td>675</td>\n",
       "      <td>4932</td>\n",
       "      <td>29</td>\n",
       "    </tr>\n",
       "    <tr>\n",
       "      <th>3</th>\n",
       "      <td>675</td>\n",
       "      <td>4932</td>\n",
       "      <td>3</td>\n",
       "      <td>29</td>\n",
       "      <td>5</td>\n",
       "    </tr>\n",
       "    <tr>\n",
       "      <th>4</th>\n",
       "      <td>29</td>\n",
       "      <td>3</td>\n",
       "      <td>4932</td>\n",
       "      <td>675</td>\n",
       "      <td>5</td>\n",
       "    </tr>\n",
       "    <tr>\n",
       "      <th>5</th>\n",
       "      <td>4932</td>\n",
       "      <td>675</td>\n",
       "      <td>29</td>\n",
       "      <td>3</td>\n",
       "      <td>5</td>\n",
       "    </tr>\n",
       "    <tr>\n",
       "      <th>6</th>\n",
       "      <td>3</td>\n",
       "      <td>5</td>\n",
       "      <td>29</td>\n",
       "      <td>4932</td>\n",
       "      <td>675</td>\n",
       "    </tr>\n",
       "    <tr>\n",
       "      <th>7</th>\n",
       "      <td>4932</td>\n",
       "      <td>5</td>\n",
       "      <td>29</td>\n",
       "      <td>3</td>\n",
       "      <td>675</td>\n",
       "    </tr>\n",
       "    <tr>\n",
       "      <th>8</th>\n",
       "      <td>675</td>\n",
       "      <td>3</td>\n",
       "      <td>29</td>\n",
       "      <td>4932</td>\n",
       "      <td>5</td>\n",
       "    </tr>\n",
       "    <tr>\n",
       "      <th>9</th>\n",
       "      <td>3</td>\n",
       "      <td>29</td>\n",
       "      <td>4932</td>\n",
       "      <td>5</td>\n",
       "      <td>675</td>\n",
       "    </tr>\n",
       "    <tr>\n",
       "      <th>10</th>\n",
       "      <td>4932</td>\n",
       "      <td>29</td>\n",
       "      <td>5</td>\n",
       "      <td>675</td>\n",
       "      <td>3</td>\n",
       "    </tr>\n",
       "    <tr>\n",
       "      <th>11</th>\n",
       "      <td>3</td>\n",
       "      <td>4932</td>\n",
       "      <td>5</td>\n",
       "      <td>675</td>\n",
       "      <td>29</td>\n",
       "    </tr>\n",
       "    <tr>\n",
       "      <th>12</th>\n",
       "      <td>4932</td>\n",
       "      <td>675</td>\n",
       "      <td>29</td>\n",
       "      <td>3</td>\n",
       "      <td>5</td>\n",
       "    </tr>\n",
       "    <tr>\n",
       "      <th>13</th>\n",
       "      <td>675</td>\n",
       "      <td>4932</td>\n",
       "      <td>3</td>\n",
       "      <td>5</td>\n",
       "      <td>29</td>\n",
       "    </tr>\n",
       "    <tr>\n",
       "      <th>14</th>\n",
       "      <td>29</td>\n",
       "      <td>675</td>\n",
       "      <td>5</td>\n",
       "      <td>3</td>\n",
       "      <td>4932</td>\n",
       "    </tr>\n",
       "    <tr>\n",
       "      <th>15</th>\n",
       "      <td>5</td>\n",
       "      <td>4932</td>\n",
       "      <td>3</td>\n",
       "      <td>29</td>\n",
       "      <td>675</td>\n",
       "    </tr>\n",
       "    <tr>\n",
       "      <th>16</th>\n",
       "      <td>675</td>\n",
       "      <td>29</td>\n",
       "      <td>5</td>\n",
       "      <td>3</td>\n",
       "      <td>4932</td>\n",
       "    </tr>\n",
       "    <tr>\n",
       "      <th>17</th>\n",
       "      <td>4932</td>\n",
       "      <td>5</td>\n",
       "      <td>29</td>\n",
       "      <td>675</td>\n",
       "      <td>3</td>\n",
       "    </tr>\n",
       "    <tr>\n",
       "      <th>18</th>\n",
       "      <td>5</td>\n",
       "      <td>675</td>\n",
       "      <td>4932</td>\n",
       "      <td>29</td>\n",
       "      <td>3</td>\n",
       "    </tr>\n",
       "    <tr>\n",
       "      <th>19</th>\n",
       "      <td>4932</td>\n",
       "      <td>675</td>\n",
       "      <td>29</td>\n",
       "      <td>3</td>\n",
       "      <td>5</td>\n",
       "    </tr>\n",
       "    <tr>\n",
       "      <th>20</th>\n",
       "      <td>29</td>\n",
       "      <td>5</td>\n",
       "      <td>675</td>\n",
       "      <td>3</td>\n",
       "      <td>4932</td>\n",
       "    </tr>\n",
       "    <tr>\n",
       "      <th>21</th>\n",
       "      <td>3</td>\n",
       "      <td>675</td>\n",
       "      <td>29</td>\n",
       "      <td>4932</td>\n",
       "      <td>5</td>\n",
       "    </tr>\n",
       "    <tr>\n",
       "      <th>22</th>\n",
       "      <td>3</td>\n",
       "      <td>4932</td>\n",
       "      <td>5</td>\n",
       "      <td>29</td>\n",
       "      <td>675</td>\n",
       "    </tr>\n",
       "    <tr>\n",
       "      <th>23</th>\n",
       "      <td>4932</td>\n",
       "      <td>3</td>\n",
       "      <td>5</td>\n",
       "      <td>29</td>\n",
       "      <td>675</td>\n",
       "    </tr>\n",
       "    <tr>\n",
       "      <th>24</th>\n",
       "      <td>4932</td>\n",
       "      <td>29</td>\n",
       "      <td>675</td>\n",
       "      <td>3</td>\n",
       "      <td>5</td>\n",
       "    </tr>\n",
       "    <tr>\n",
       "      <th>25</th>\n",
       "      <td>29</td>\n",
       "      <td>3</td>\n",
       "      <td>4932</td>\n",
       "      <td>5</td>\n",
       "      <td>675</td>\n",
       "    </tr>\n",
       "    <tr>\n",
       "      <th>26</th>\n",
       "      <td>675</td>\n",
       "      <td>3</td>\n",
       "      <td>5</td>\n",
       "      <td>29</td>\n",
       "      <td>4932</td>\n",
       "    </tr>\n",
       "    <tr>\n",
       "      <th>27</th>\n",
       "      <td>4932</td>\n",
       "      <td>5</td>\n",
       "      <td>29</td>\n",
       "      <td>3</td>\n",
       "      <td>675</td>\n",
       "    </tr>\n",
       "    <tr>\n",
       "      <th>28</th>\n",
       "      <td>675</td>\n",
       "      <td>5</td>\n",
       "      <td>29</td>\n",
       "      <td>4932</td>\n",
       "      <td>3</td>\n",
       "    </tr>\n",
       "    <tr>\n",
       "      <th>29</th>\n",
       "      <td>675</td>\n",
       "      <td>5</td>\n",
       "      <td>3</td>\n",
       "      <td>29</td>\n",
       "      <td>4932</td>\n",
       "    </tr>\n",
       "    <tr>\n",
       "      <th>...</th>\n",
       "      <td>...</td>\n",
       "      <td>...</td>\n",
       "      <td>...</td>\n",
       "      <td>...</td>\n",
       "      <td>...</td>\n",
       "    </tr>\n",
       "    <tr>\n",
       "      <th>3570</th>\n",
       "      <td>675</td>\n",
       "      <td>29</td>\n",
       "      <td>3</td>\n",
       "      <td>4932</td>\n",
       "      <td>5</td>\n",
       "    </tr>\n",
       "    <tr>\n",
       "      <th>3571</th>\n",
       "      <td>5</td>\n",
       "      <td>29</td>\n",
       "      <td>675</td>\n",
       "      <td>3</td>\n",
       "      <td>4932</td>\n",
       "    </tr>\n",
       "    <tr>\n",
       "      <th>3572</th>\n",
       "      <td>4932</td>\n",
       "      <td>5</td>\n",
       "      <td>3</td>\n",
       "      <td>675</td>\n",
       "      <td>29</td>\n",
       "    </tr>\n",
       "    <tr>\n",
       "      <th>3573</th>\n",
       "      <td>675</td>\n",
       "      <td>4932</td>\n",
       "      <td>3</td>\n",
       "      <td>5</td>\n",
       "      <td>29</td>\n",
       "    </tr>\n",
       "    <tr>\n",
       "      <th>3574</th>\n",
       "      <td>675</td>\n",
       "      <td>3</td>\n",
       "      <td>5</td>\n",
       "      <td>4932</td>\n",
       "      <td>29</td>\n",
       "    </tr>\n",
       "    <tr>\n",
       "      <th>3575</th>\n",
       "      <td>675</td>\n",
       "      <td>29</td>\n",
       "      <td>4932</td>\n",
       "      <td>5</td>\n",
       "      <td>3</td>\n",
       "    </tr>\n",
       "    <tr>\n",
       "      <th>3576</th>\n",
       "      <td>29</td>\n",
       "      <td>675</td>\n",
       "      <td>4932</td>\n",
       "      <td>5</td>\n",
       "      <td>3</td>\n",
       "    </tr>\n",
       "    <tr>\n",
       "      <th>3577</th>\n",
       "      <td>4932</td>\n",
       "      <td>5</td>\n",
       "      <td>675</td>\n",
       "      <td>3</td>\n",
       "      <td>29</td>\n",
       "    </tr>\n",
       "    <tr>\n",
       "      <th>3578</th>\n",
       "      <td>3</td>\n",
       "      <td>5</td>\n",
       "      <td>675</td>\n",
       "      <td>29</td>\n",
       "      <td>4932</td>\n",
       "    </tr>\n",
       "    <tr>\n",
       "      <th>3579</th>\n",
       "      <td>675</td>\n",
       "      <td>3</td>\n",
       "      <td>5</td>\n",
       "      <td>29</td>\n",
       "      <td>4932</td>\n",
       "    </tr>\n",
       "    <tr>\n",
       "      <th>3580</th>\n",
       "      <td>4932</td>\n",
       "      <td>3</td>\n",
       "      <td>29</td>\n",
       "      <td>5</td>\n",
       "      <td>675</td>\n",
       "    </tr>\n",
       "    <tr>\n",
       "      <th>3581</th>\n",
       "      <td>4932</td>\n",
       "      <td>5</td>\n",
       "      <td>3</td>\n",
       "      <td>675</td>\n",
       "      <td>29</td>\n",
       "    </tr>\n",
       "    <tr>\n",
       "      <th>3582</th>\n",
       "      <td>675</td>\n",
       "      <td>29</td>\n",
       "      <td>4932</td>\n",
       "      <td>3</td>\n",
       "      <td>5</td>\n",
       "    </tr>\n",
       "    <tr>\n",
       "      <th>3583</th>\n",
       "      <td>3</td>\n",
       "      <td>675</td>\n",
       "      <td>5</td>\n",
       "      <td>29</td>\n",
       "      <td>4932</td>\n",
       "    </tr>\n",
       "    <tr>\n",
       "      <th>3584</th>\n",
       "      <td>4932</td>\n",
       "      <td>5</td>\n",
       "      <td>3</td>\n",
       "      <td>29</td>\n",
       "      <td>675</td>\n",
       "    </tr>\n",
       "    <tr>\n",
       "      <th>3585</th>\n",
       "      <td>3</td>\n",
       "      <td>29</td>\n",
       "      <td>675</td>\n",
       "      <td>5</td>\n",
       "      <td>4932</td>\n",
       "    </tr>\n",
       "    <tr>\n",
       "      <th>3586</th>\n",
       "      <td>3</td>\n",
       "      <td>29</td>\n",
       "      <td>4932</td>\n",
       "      <td>5</td>\n",
       "      <td>675</td>\n",
       "    </tr>\n",
       "    <tr>\n",
       "      <th>3587</th>\n",
       "      <td>5</td>\n",
       "      <td>4932</td>\n",
       "      <td>3</td>\n",
       "      <td>29</td>\n",
       "      <td>675</td>\n",
       "    </tr>\n",
       "    <tr>\n",
       "      <th>3588</th>\n",
       "      <td>5</td>\n",
       "      <td>4932</td>\n",
       "      <td>29</td>\n",
       "      <td>3</td>\n",
       "      <td>675</td>\n",
       "    </tr>\n",
       "    <tr>\n",
       "      <th>3589</th>\n",
       "      <td>4932</td>\n",
       "      <td>3</td>\n",
       "      <td>5</td>\n",
       "      <td>675</td>\n",
       "      <td>29</td>\n",
       "    </tr>\n",
       "    <tr>\n",
       "      <th>3590</th>\n",
       "      <td>29</td>\n",
       "      <td>3</td>\n",
       "      <td>4932</td>\n",
       "      <td>675</td>\n",
       "      <td>5</td>\n",
       "    </tr>\n",
       "    <tr>\n",
       "      <th>3591</th>\n",
       "      <td>4932</td>\n",
       "      <td>5</td>\n",
       "      <td>29</td>\n",
       "      <td>3</td>\n",
       "      <td>675</td>\n",
       "    </tr>\n",
       "    <tr>\n",
       "      <th>3592</th>\n",
       "      <td>4932</td>\n",
       "      <td>3</td>\n",
       "      <td>29</td>\n",
       "      <td>5</td>\n",
       "      <td>675</td>\n",
       "    </tr>\n",
       "    <tr>\n",
       "      <th>3593</th>\n",
       "      <td>5</td>\n",
       "      <td>29</td>\n",
       "      <td>675</td>\n",
       "      <td>4932</td>\n",
       "      <td>3</td>\n",
       "    </tr>\n",
       "    <tr>\n",
       "      <th>3594</th>\n",
       "      <td>4932</td>\n",
       "      <td>5</td>\n",
       "      <td>675</td>\n",
       "      <td>3</td>\n",
       "      <td>29</td>\n",
       "    </tr>\n",
       "    <tr>\n",
       "      <th>3595</th>\n",
       "      <td>675</td>\n",
       "      <td>3</td>\n",
       "      <td>5</td>\n",
       "      <td>29</td>\n",
       "      <td>4932</td>\n",
       "    </tr>\n",
       "    <tr>\n",
       "      <th>3596</th>\n",
       "      <td>5</td>\n",
       "      <td>29</td>\n",
       "      <td>4932</td>\n",
       "      <td>3</td>\n",
       "      <td>675</td>\n",
       "    </tr>\n",
       "    <tr>\n",
       "      <th>3597</th>\n",
       "      <td>29</td>\n",
       "      <td>5</td>\n",
       "      <td>3</td>\n",
       "      <td>4932</td>\n",
       "      <td>675</td>\n",
       "    </tr>\n",
       "    <tr>\n",
       "      <th>3598</th>\n",
       "      <td>675</td>\n",
       "      <td>5</td>\n",
       "      <td>29</td>\n",
       "      <td>3</td>\n",
       "      <td>4932</td>\n",
       "    </tr>\n",
       "    <tr>\n",
       "      <th>3599</th>\n",
       "      <td>4932</td>\n",
       "      <td>29</td>\n",
       "      <td>3</td>\n",
       "      <td>5</td>\n",
       "      <td>675</td>\n",
       "    </tr>\n",
       "  </tbody>\n",
       "</table>\n",
       "<p>3600 rows × 5 columns</p>\n",
       "</div>"
      ],
      "text/plain": [
       "         0     1     2     3     4\n",
       "0      675    29  4932     5     3\n",
       "1      675     3    29     5  4932\n",
       "2        3     5   675  4932    29\n",
       "3      675  4932     3    29     5\n",
       "4       29     3  4932   675     5\n",
       "5     4932   675    29     3     5\n",
       "6        3     5    29  4932   675\n",
       "7     4932     5    29     3   675\n",
       "8      675     3    29  4932     5\n",
       "9        3    29  4932     5   675\n",
       "10    4932    29     5   675     3\n",
       "11       3  4932     5   675    29\n",
       "12    4932   675    29     3     5\n",
       "13     675  4932     3     5    29\n",
       "14      29   675     5     3  4932\n",
       "15       5  4932     3    29   675\n",
       "16     675    29     5     3  4932\n",
       "17    4932     5    29   675     3\n",
       "18       5   675  4932    29     3\n",
       "19    4932   675    29     3     5\n",
       "20      29     5   675     3  4932\n",
       "21       3   675    29  4932     5\n",
       "22       3  4932     5    29   675\n",
       "23    4932     3     5    29   675\n",
       "24    4932    29   675     3     5\n",
       "25      29     3  4932     5   675\n",
       "26     675     3     5    29  4932\n",
       "27    4932     5    29     3   675\n",
       "28     675     5    29  4932     3\n",
       "29     675     5     3    29  4932\n",
       "...    ...   ...   ...   ...   ...\n",
       "3570   675    29     3  4932     5\n",
       "3571     5    29   675     3  4932\n",
       "3572  4932     5     3   675    29\n",
       "3573   675  4932     3     5    29\n",
       "3574   675     3     5  4932    29\n",
       "3575   675    29  4932     5     3\n",
       "3576    29   675  4932     5     3\n",
       "3577  4932     5   675     3    29\n",
       "3578     3     5   675    29  4932\n",
       "3579   675     3     5    29  4932\n",
       "3580  4932     3    29     5   675\n",
       "3581  4932     5     3   675    29\n",
       "3582   675    29  4932     3     5\n",
       "3583     3   675     5    29  4932\n",
       "3584  4932     5     3    29   675\n",
       "3585     3    29   675     5  4932\n",
       "3586     3    29  4932     5   675\n",
       "3587     5  4932     3    29   675\n",
       "3588     5  4932    29     3   675\n",
       "3589  4932     3     5   675    29\n",
       "3590    29     3  4932   675     5\n",
       "3591  4932     5    29     3   675\n",
       "3592  4932     3    29     5   675\n",
       "3593     5    29   675  4932     3\n",
       "3594  4932     5   675     3    29\n",
       "3595   675     3     5    29  4932\n",
       "3596     5    29  4932     3   675\n",
       "3597    29     5     3  4932   675\n",
       "3598   675     5    29     3  4932\n",
       "3599  4932    29     3     5   675\n",
       "\n",
       "[3600 rows x 5 columns]"
      ]
     },
     "execution_count": 18,
     "metadata": {},
     "output_type": "execute_result"
    }
   ],
   "source": [
    "r"
   ]
  },
  {
   "cell_type": "code",
   "execution_count": 19,
   "metadata": {
    "collapsed": true
   },
   "outputs": [],
   "source": [
    "def join_num(alist):\n",
    "    temp = [str(i) for i in alist]\n",
    "    return ''.join(temp)"
   ]
  },
  {
   "cell_type": "code",
   "execution_count": 20,
   "metadata": {
    "collapsed": false
   },
   "outputs": [
    {
     "data": {
      "text/plain": [
       "'137954'"
      ]
     },
     "execution_count": 20,
     "metadata": {},
     "output_type": "execute_result"
    }
   ],
   "source": [
    "join_num([1, 3, 7, 9, 54])"
   ]
  },
  {
   "cell_type": "code",
   "execution_count": 21,
   "metadata": {
    "collapsed": true
   },
   "outputs": [],
   "source": [
    "data = r.apply(join_num, axis = 1)"
   ]
  },
  {
   "cell_type": "code",
   "execution_count": 22,
   "metadata": {
    "collapsed": false
   },
   "outputs": [
    {
     "data": {
      "text/plain": [
       "0       67529493253\n",
       "1       67532954932\n",
       "2       35675493229\n",
       "3       67549323295\n",
       "4       29349326755\n",
       "5       49326752935\n",
       "6       35294932675\n",
       "7       49325293675\n",
       "8       67532949325\n",
       "9       32949325675\n",
       "10      49322956753\n",
       "11      34932567529\n",
       "12      49326752935\n",
       "13      67549323529\n",
       "14      29675534932\n",
       "15      54932329675\n",
       "16      67529534932\n",
       "17      49325296753\n",
       "18      56754932293\n",
       "19      49326752935\n",
       "20      29567534932\n",
       "21      36752949325\n",
       "22      34932529675\n",
       "23      49323529675\n",
       "24      49322967535\n",
       "25      29349325675\n",
       "26      67535294932\n",
       "27      49325293675\n",
       "28      67552949323\n",
       "29      67553294932\n",
       "           ...     \n",
       "3570    67529349325\n",
       "3571    52967534932\n",
       "3572    49325367529\n",
       "3573    67549323529\n",
       "3574    67535493229\n",
       "3575    67529493253\n",
       "3576    29675493253\n",
       "3577    49325675329\n",
       "3578    35675294932\n",
       "3579    67535294932\n",
       "3580    49323295675\n",
       "3581    49325367529\n",
       "3582    67529493235\n",
       "3583    36755294932\n",
       "3584    49325329675\n",
       "3585    32967554932\n",
       "3586    32949325675\n",
       "3587    54932329675\n",
       "3588    54932293675\n",
       "3589    49323567529\n",
       "3590    29349326755\n",
       "3591    49325293675\n",
       "3592    49323295675\n",
       "3593    52967549323\n",
       "3594    49325675329\n",
       "3595    67535294932\n",
       "3596    52949323675\n",
       "3597    29534932675\n",
       "3598    67552934932\n",
       "3599    49322935675\n",
       "dtype: object"
      ]
     },
     "execution_count": 22,
     "metadata": {},
     "output_type": "execute_result"
    }
   ],
   "source": [
    "data"
   ]
  },
  {
   "cell_type": "code",
   "execution_count": 23,
   "metadata": {
    "collapsed": false
   },
   "outputs": [
    {
     "data": {
      "text/plain": [
       "120"
      ]
     },
     "execution_count": 23,
     "metadata": {},
     "output_type": "execute_result"
    }
   ],
   "source": [
    "len(data.unique())"
   ]
  },
  {
   "cell_type": "code",
   "execution_count": 24,
   "metadata": {
    "collapsed": false
   },
   "outputs": [
    {
     "data": {
      "text/plain": [
       "'67554932329'"
      ]
     },
     "execution_count": 24,
     "metadata": {},
     "output_type": "execute_result"
    }
   ],
   "source": [
    "data.max()"
   ]
  },
  {
   "cell_type": "code",
   "execution_count": 25,
   "metadata": {
    "collapsed": false
   },
   "outputs": [
    {
     "data": {
      "text/plain": [
       "'29349325675'"
      ]
     },
     "execution_count": 25,
     "metadata": {},
     "output_type": "execute_result"
    }
   ],
   "source": [
    "data.min()"
   ]
  },
  {
   "cell_type": "code",
   "execution_count": 26,
   "metadata": {
    "collapsed": false
   },
   "outputs": [
    {
     "data": {
      "text/plain": [
       "34932529675    49\n",
       "49325293675    45\n",
       "35493229675    43\n",
       "49326752935    43\n",
       "54932675329    40\n",
       "54932293675    38\n",
       "36752949325    38\n",
       "67529493235    38\n",
       "54932329675    38\n",
       "35675493229    38\n",
       "32954932675    37\n",
       "67529349325    37\n",
       "49322936755    36\n",
       "67549322935    36\n",
       "52967549323    36\n",
       "29493267553    36\n",
       "35296754932    35\n",
       "29493236755    35\n",
       "67549323529    35\n",
       "36754932529    35\n",
       "32956754932    35\n",
       "49326752953    35\n",
       "29349326755    35\n",
       "49326753295    35\n",
       "29675534932    34\n",
       "67529493253    34\n",
       "67552934932    34\n",
       "67535294932    34\n",
       "53294932675    34\n",
       "49323567529    34\n",
       "               ..\n",
       "29675549323    26\n",
       "67532949325    26\n",
       "36752954932    26\n",
       "54932296753    26\n",
       "49325329675    26\n",
       "49323295675    25\n",
       "54932367529    25\n",
       "49326755329    25\n",
       "29356754932    25\n",
       "32967554932    25\n",
       "29534932675    25\n",
       "34932675529    25\n",
       "56753294932    24\n",
       "56754932293    24\n",
       "29367554932    24\n",
       "53493267529    24\n",
       "32949326755    24\n",
       "29549323675    23\n",
       "35493267529    22\n",
       "67534932295    22\n",
       "67549322953    22\n",
       "52936754932    22\n",
       "29675493235    21\n",
       "34932675295    21\n",
       "29493235675    21\n",
       "29549326753    20\n",
       "29367549325    19\n",
       "49322953675    19\n",
       "53296754932    18\n",
       "56752934932    18\n",
       "dtype: int64"
      ]
     },
     "execution_count": 26,
     "metadata": {},
     "output_type": "execute_result"
    }
   ],
   "source": [
    "data.value_counts()"
   ]
  },
  {
   "cell_type": "markdown",
   "metadata": {
    "collapsed": true
   },
   "source": [
    "这个方法依然效率低下，当数组中元素个数超过 6 就运算非常缓慢，不可用了。"
   ]
  },
  {
   "cell_type": "code",
   "execution_count": null,
   "metadata": {
    "collapsed": true
   },
   "outputs": [],
   "source": []
  }
 ],
 "metadata": {
  "kernelspec": {
   "display_name": "Python 3",
   "language": "python",
   "name": "python3"
  },
  "language_info": {
   "codemirror_mode": {
    "name": "ipython",
    "version": 3
   },
   "file_extension": ".py",
   "mimetype": "text/x-python",
   "name": "python",
   "nbconvert_exporter": "python",
   "pygments_lexer": "ipython3",
   "version": "3.5.1"
  }
 },
 "nbformat": 4,
 "nbformat_minor": 0
}
