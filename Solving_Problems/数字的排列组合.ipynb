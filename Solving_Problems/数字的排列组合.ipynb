{
 "cells": [
  {
   "cell_type": "markdown",
   "metadata": {},
   "source": [
    "# 数字 1 － 9 有多少种排列组合？"
   ]
  },
  {
   "cell_type": "code",
   "execution_count": 1,
   "metadata": {
    "collapsed": true
   },
   "outputs": [],
   "source": [
    "def permutation(n):\n",
    "    if n == 0:\n",
    "        return [[0]]\n",
    "    if n == 1:\n",
    "        return [[1, 0], [0, 1]]\n",
    "    if n >= 2:\n",
    "        result = []\n",
    "        for i in range(len(permutation(n-1))):\n",
    "            \n",
    "            for m in range(n+1):\n",
    "                temp = permutation(n-1)[i]\n",
    "                temp.insert(m, n)\n",
    "                result.append(temp)\n",
    "        return result"
   ]
  },
  {
   "cell_type": "code",
   "execution_count": 2,
   "metadata": {
    "collapsed": false
   },
   "outputs": [
    {
     "data": {
      "text/plain": [
       "[[1, 0], [0, 1]]"
      ]
     },
     "execution_count": 2,
     "metadata": {},
     "output_type": "execute_result"
    }
   ],
   "source": [
    "permutation(1)"
   ]
  },
  {
   "cell_type": "code",
   "execution_count": 3,
   "metadata": {
    "collapsed": false
   },
   "outputs": [
    {
     "data": {
      "text/plain": [
       "[[2, 1, 0], [1, 2, 0], [1, 0, 2], [2, 0, 1], [0, 2, 1], [0, 1, 2]]"
      ]
     },
     "execution_count": 3,
     "metadata": {},
     "output_type": "execute_result"
    }
   ],
   "source": [
    "permutation(2)"
   ]
  },
  {
   "cell_type": "code",
   "execution_count": 4,
   "metadata": {
    "collapsed": false
   },
   "outputs": [
    {
     "data": {
      "text/plain": [
       "[[3, 2, 1, 0],\n",
       " [2, 3, 1, 0],\n",
       " [2, 1, 3, 0],\n",
       " [2, 1, 0, 3],\n",
       " [3, 1, 2, 0],\n",
       " [1, 3, 2, 0],\n",
       " [1, 2, 3, 0],\n",
       " [1, 2, 0, 3],\n",
       " [3, 1, 0, 2],\n",
       " [1, 3, 0, 2],\n",
       " [1, 0, 3, 2],\n",
       " [1, 0, 2, 3],\n",
       " [3, 2, 0, 1],\n",
       " [2, 3, 0, 1],\n",
       " [2, 0, 3, 1],\n",
       " [2, 0, 1, 3],\n",
       " [3, 0, 2, 1],\n",
       " [0, 3, 2, 1],\n",
       " [0, 2, 3, 1],\n",
       " [0, 2, 1, 3],\n",
       " [3, 0, 1, 2],\n",
       " [0, 3, 1, 2],\n",
       " [0, 1, 3, 2],\n",
       " [0, 1, 2, 3]]"
      ]
     },
     "execution_count": 4,
     "metadata": {},
     "output_type": "execute_result"
    }
   ],
   "source": [
    "permutation(3)"
   ]
  },
  {
   "cell_type": "code",
   "execution_count": 5,
   "metadata": {
    "collapsed": false
   },
   "outputs": [
    {
     "data": {
      "text/plain": [
       "120"
      ]
     },
     "execution_count": 5,
     "metadata": {},
     "output_type": "execute_result"
    }
   ],
   "source": [
    "len(permutation(4))"
   ]
  },
  {
   "cell_type": "code",
   "execution_count": 6,
   "metadata": {
    "collapsed": false
   },
   "outputs": [
    {
     "data": {
      "text/plain": [
       "720"
      ]
     },
     "execution_count": 6,
     "metadata": {},
     "output_type": "execute_result"
    }
   ],
   "source": [
    "len(permutation(5))"
   ]
  },
  {
   "cell_type": "markdown",
   "metadata": {},
   "source": [
    "上面这个方法可行，但是递归的效率太低了！！！ n = 6 就计算不过来了。"
   ]
  },
  {
   "cell_type": "code",
   "execution_count": 7,
   "metadata": {
    "collapsed": true
   },
   "outputs": [],
   "source": [
    "import numpy as np\n",
    "import pandas as pd"
   ]
  },
  {
   "cell_type": "code",
   "execution_count": 8,
   "metadata": {
    "collapsed": true
   },
   "outputs": [],
   "source": [
    "def p(n):\n",
    "    if n == 0:\n",
    "        return np.array([0])\n",
    "    if n == 1:\n",
    "        return np.array([[1, 0], [0, 1]])\n",
    "    \n",
    "    def insert_array(array, n):\n",
    "        #处理一行，将 n 插入到这一行每一个可能的位置，最后reshape成多行\n",
    "        temp = np.insert(array, 0, n)\n",
    "        for i in range(1, len(array) + 1):\n",
    "            temp = np.concatenate((temp, np.insert(array, i, n)))\n",
    "        return temp.reshape(((len(array)+1), (len(array)+1)))\n",
    "    \n",
    "    if n > 1:\n",
    "        result = insert_array(p(n-1)[0], n)\n",
    "        for i in range(1, len(p(n-1))):\n",
    "            result = np.concatenate((result, insert_array(p(n-1)[i], n)), axis=0)\n",
    "        return result\n",
    "    #这里 np.insert()方法没有用好，逐行操作，效率太低。numpy 就是为了要尽量避免 for loop 的。\n",
    "        \n",
    "    \n",
    "        "
   ]
  },
  {
   "cell_type": "markdown",
   "metadata": {},
   "source": [
    "## 下面这段代码是对上面代码的优化，利用了 np.insert(array, i, n, axis=1) 插入列，同时对多行处理。"
   ]
  },
  {
   "cell_type": "code",
   "execution_count": 9,
   "metadata": {
    "collapsed": false
   },
   "outputs": [],
   "source": [
    "def p_upgraded(n):\n",
    "    if n == 0:\n",
    "        return np.array([0])\n",
    "    if n == 1:\n",
    "        return np.array([[1, 0], [0, 1]])\n",
    "    \n",
    "    if n > 1:\n",
    "        result = np.insert(p(n-1), 0, n, axis=1)\n",
    "        for i in range(1, n+1):\n",
    "            result = np.concatenate((result, np.insert(p(n-1), i, n, axis=1)), axis=0)\n",
    "        return result"
   ]
  },
  {
   "cell_type": "code",
   "execution_count": 10,
   "metadata": {
    "collapsed": false
   },
   "outputs": [
    {
     "data": {
      "text/plain": [
       "array([[3, 2, 1, 0],\n",
       "       [2, 3, 1, 0],\n",
       "       [2, 1, 3, 0],\n",
       "       [2, 1, 0, 3],\n",
       "       [3, 1, 2, 0],\n",
       "       [1, 3, 2, 0],\n",
       "       [1, 2, 3, 0],\n",
       "       [1, 2, 0, 3],\n",
       "       [3, 1, 0, 2],\n",
       "       [1, 3, 0, 2],\n",
       "       [1, 0, 3, 2],\n",
       "       [1, 0, 2, 3],\n",
       "       [3, 2, 0, 1],\n",
       "       [2, 3, 0, 1],\n",
       "       [2, 0, 3, 1],\n",
       "       [2, 0, 1, 3],\n",
       "       [3, 0, 2, 1],\n",
       "       [0, 3, 2, 1],\n",
       "       [0, 2, 3, 1],\n",
       "       [0, 2, 1, 3],\n",
       "       [3, 0, 1, 2],\n",
       "       [0, 3, 1, 2],\n",
       "       [0, 1, 3, 2],\n",
       "       [0, 1, 2, 3]])"
      ]
     },
     "execution_count": 10,
     "metadata": {},
     "output_type": "execute_result"
    }
   ],
   "source": [
    "p(3)"
   ]
  },
  {
   "cell_type": "code",
   "execution_count": 11,
   "metadata": {
    "collapsed": false
   },
   "outputs": [
    {
     "data": {
      "text/plain": [
       "array([[3, 2, 1, 0],\n",
       "       [3, 1, 2, 0],\n",
       "       [3, 1, 0, 2],\n",
       "       [3, 2, 0, 1],\n",
       "       [3, 0, 2, 1],\n",
       "       [3, 0, 1, 2],\n",
       "       [2, 3, 1, 0],\n",
       "       [1, 3, 2, 0],\n",
       "       [1, 3, 0, 2],\n",
       "       [2, 3, 0, 1],\n",
       "       [0, 3, 2, 1],\n",
       "       [0, 3, 1, 2],\n",
       "       [2, 1, 3, 0],\n",
       "       [1, 2, 3, 0],\n",
       "       [1, 0, 3, 2],\n",
       "       [2, 0, 3, 1],\n",
       "       [0, 2, 3, 1],\n",
       "       [0, 1, 3, 2],\n",
       "       [2, 1, 0, 3],\n",
       "       [1, 2, 0, 3],\n",
       "       [1, 0, 2, 3],\n",
       "       [2, 0, 1, 3],\n",
       "       [0, 2, 1, 3],\n",
       "       [0, 1, 2, 3]])"
      ]
     },
     "execution_count": 11,
     "metadata": {},
     "output_type": "execute_result"
    }
   ],
   "source": [
    "p_upgraded(3)"
   ]
  },
  {
   "cell_type": "code",
   "execution_count": 12,
   "metadata": {
    "collapsed": true
   },
   "outputs": [],
   "source": [
    "import time\n",
    "def time_used(f, n):\n",
    "    start = time.time()\n",
    "    f(n)\n",
    "    time_length = time.time() - start\n",
    "    return '%s s used to compelte.'%str(time_length)"
   ]
  },
  {
   "cell_type": "code",
   "execution_count": 13,
   "metadata": {
    "collapsed": false
   },
   "outputs": [
    {
     "data": {
      "text/plain": [
       "'4.725210189819336 s used to compelte.'"
      ]
     },
     "execution_count": 13,
     "metadata": {},
     "output_type": "execute_result"
    }
   ],
   "source": [
    "time_used(p, 5)"
   ]
  },
  {
   "cell_type": "code",
   "execution_count": 19,
   "metadata": {
    "collapsed": false
   },
   "outputs": [
    {
     "data": {
      "text/plain": [
       "'0.2692909240722656 s used to compelte.'"
      ]
     },
     "execution_count": 19,
     "metadata": {},
     "output_type": "execute_result"
    }
   ],
   "source": [
    "time_used(p_upgraded, 5)"
   ]
  },
  {
   "cell_type": "code",
   "execution_count": 15,
   "metadata": {
    "collapsed": false
   },
   "outputs": [
    {
     "data": {
      "text/plain": [
       "'25.19969129562378 s used to compelte.'"
      ]
     },
     "execution_count": 15,
     "metadata": {},
     "output_type": "execute_result"
    }
   ],
   "source": [
    "time_used(permutation, 5)"
   ]
  },
  {
   "cell_type": "markdown",
   "metadata": {
    "collapsed": false
   },
   "source": [
    "## 递归的效率太差了！\n",
    "## 我的解决方案是，用字典去接收递归过程中产生的中间数据。"
   ]
  },
  {
   "cell_type": "code",
   "execution_count": 16,
   "metadata": {
    "collapsed": false
   },
   "outputs": [
    {
     "name": "stdout",
     "output_type": "stream",
     "text": [
      "1 loop, best of 3: 4.02 s per loop\n"
     ]
    }
   ],
   "source": [
    "%%timeit\n",
    "result_dict = {\n",
    "    0:[[0]],\n",
    "    1:[[1, 0], [0, 1]],\n",
    "    2:[[2, 1, 0], [1, 2, 0], [1, 0, 2], [2, 0, 1], [0, 2, 1], [0, 1, 2]],\n",
    "}\n",
    "\n",
    "for k in range(3, 10):\n",
    "    result = []\n",
    "    for i in range(len(result_dict[k-1])):\n",
    "        \n",
    "        for idx in range(k+1):\n",
    "            temp = result_dict[k-1][i][:]\n",
    "            temp.insert(idx, k)\n",
    "            result.append(temp)\n",
    "    result_dict[k] = result"
   ]
  },
  {
   "cell_type": "code",
   "execution_count": 17,
   "metadata": {
    "collapsed": false
   },
   "outputs": [
    {
     "name": "stdout",
     "output_type": "stream",
     "text": [
      "1 loop, best of 3: 644 ms per loop\n"
     ]
    }
   ],
   "source": [
    "%%timeit\n",
    "result_dict1 = {\n",
    "    0:np.array([0]),\n",
    "    1:np.array([[1, 0], [0, 1]]),\n",
    "    2:np.array([[2, 1, 0], [1, 2, 0], [1, 0, 2], [2, 0, 1], [0, 2, 1], [0, 1, 2]])\n",
    "}\n",
    "\n",
    "for k in range(3, 10):\n",
    "    result = np.insert(result_dict1[k-1], 0, k, axis=1)\n",
    "    for i in range(1, k+1):\n",
    "        result = np.concatenate((result, np.insert(result_dict1[k-1], i, k, axis=1)), axis=0)\n",
    "    result_dict1[k] = result\n"
   ]
  },
  {
   "cell_type": "markdown",
   "metadata": {},
   "source": [
    "## 再次证明 numpy 比 native python 快多了。"
   ]
  },
  {
   "cell_type": "code",
   "execution_count": null,
   "metadata": {
    "collapsed": true
   },
   "outputs": [],
   "source": []
  }
 ],
 "metadata": {
  "kernelspec": {
   "display_name": "Python 3",
   "language": "python",
   "name": "python3"
  },
  "language_info": {
   "codemirror_mode": {
    "name": "ipython",
    "version": 3
   },
   "file_extension": ".py",
   "mimetype": "text/x-python",
   "name": "python",
   "nbconvert_exporter": "python",
   "pygments_lexer": "ipython3",
   "version": "3.5.1"
  }
 },
 "nbformat": 4,
 "nbformat_minor": 0
}
