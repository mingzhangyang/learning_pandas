{
 "cells": [
  {
   "cell_type": "markdown",
   "metadata": {},
   "source": [
    "题目：掷三个骰子，不分先后次序，问可能出现的组合有多少种？"
   ]
  },
  {
   "cell_type": "markdown",
   "metadata": {},
   "source": [
    "解法一"
   ]
  },
  {
   "cell_type": "code",
   "execution_count": 1,
   "metadata": {
    "collapsed": false
   },
   "outputs": [
    {
     "data": {
      "text/plain": [
       "216"
      ]
     },
     "execution_count": 1,
     "metadata": {},
     "output_type": "execute_result"
    }
   ],
   "source": [
    "d = '123456'\n",
    "_all = [i+j+k for i in d for j in d for k in d]\n",
    "len(_all)"
   ]
  },
  {
   "cell_type": "code",
   "execution_count": 2,
   "metadata": {
    "collapsed": true
   },
   "outputs": [],
   "source": [
    "def _sort(x):\n",
    "    return ''.join(sorted(list(x)))"
   ]
  },
  {
   "cell_type": "code",
   "execution_count": 3,
   "metadata": {
    "collapsed": false
   },
   "outputs": [
    {
     "data": {
      "text/plain": [
       "'234'"
      ]
     },
     "execution_count": 3,
     "metadata": {},
     "output_type": "execute_result"
    }
   ],
   "source": [
    "_sort('324')"
   ]
  },
  {
   "cell_type": "code",
   "execution_count": 4,
   "metadata": {
    "collapsed": false
   },
   "outputs": [],
   "source": [
    "result = set(map(_sort, _all))"
   ]
  },
  {
   "cell_type": "code",
   "execution_count": 5,
   "metadata": {
    "collapsed": false
   },
   "outputs": [
    {
     "data": {
      "text/plain": [
       "{'111',\n",
       " '112',\n",
       " '113',\n",
       " '114',\n",
       " '115',\n",
       " '116',\n",
       " '122',\n",
       " '123',\n",
       " '124',\n",
       " '125',\n",
       " '126',\n",
       " '133',\n",
       " '134',\n",
       " '135',\n",
       " '136',\n",
       " '144',\n",
       " '145',\n",
       " '146',\n",
       " '155',\n",
       " '156',\n",
       " '166',\n",
       " '222',\n",
       " '223',\n",
       " '224',\n",
       " '225',\n",
       " '226',\n",
       " '233',\n",
       " '234',\n",
       " '235',\n",
       " '236',\n",
       " '244',\n",
       " '245',\n",
       " '246',\n",
       " '255',\n",
       " '256',\n",
       " '266',\n",
       " '333',\n",
       " '334',\n",
       " '335',\n",
       " '336',\n",
       " '344',\n",
       " '345',\n",
       " '346',\n",
       " '355',\n",
       " '356',\n",
       " '366',\n",
       " '444',\n",
       " '445',\n",
       " '446',\n",
       " '455',\n",
       " '456',\n",
       " '466',\n",
       " '555',\n",
       " '556',\n",
       " '566',\n",
       " '666'}"
      ]
     },
     "execution_count": 5,
     "metadata": {},
     "output_type": "execute_result"
    }
   ],
   "source": [
    "result"
   ]
  },
  {
   "cell_type": "code",
   "execution_count": 6,
   "metadata": {
    "collapsed": false
   },
   "outputs": [
    {
     "data": {
      "text/plain": [
       "56"
      ]
     },
     "execution_count": 6,
     "metadata": {},
     "output_type": "execute_result"
    }
   ],
   "source": [
    "len(result)"
   ]
  },
  {
   "cell_type": "code",
   "execution_count": 7,
   "metadata": {
    "collapsed": false
   },
   "outputs": [
    {
     "name": "stdout",
     "output_type": "stream",
     "text": [
      "{1: 6, 2: 30, 3: 20}\n"
     ]
    }
   ],
   "source": [
    "dic = {3:0, 2:0, 1:0}\n",
    "for a in result:\n",
    "    dic[len(set(list(a)))] += 1\n",
    "    \n",
    "print(dic)"
   ]
  },
  {
   "cell_type": "markdown",
   "metadata": {},
   "source": [
    "总结： 解决问题的关键是 sort。'123', '132', '213', '231', '312', '321' 这六种可能的组合在 sort 之后都是同样的 '123'。\n",
    "起初，我用 set() 来判断，对于 '123' 这种情况成立，但是对于 '112' 和 '221' 这两种不同的组合，set 的结果是一样的，因此 set 判断不可用。"
   ]
  },
  {
   "cell_type": "markdown",
   "metadata": {},
   "source": [
    "解法二"
   ]
  },
  {
   "cell_type": "code",
   "execution_count": 12,
   "metadata": {
    "collapsed": true
   },
   "outputs": [],
   "source": [
    "def equal(x, y):\n",
    "    if set(list(x)) != set(list(y)):\n",
    "        return False\n",
    "    else:\n",
    "        for element in set(list(x)):\n",
    "            if x.count(element) != y.count(element):\n",
    "                return False\n",
    "        return True"
   ]
  },
  {
   "cell_type": "code",
   "execution_count": 13,
   "metadata": {
    "collapsed": false
   },
   "outputs": [
    {
     "data": {
      "text/plain": [
       "True"
      ]
     },
     "execution_count": 13,
     "metadata": {},
     "output_type": "execute_result"
    }
   ],
   "source": [
    "equal('121', '112')"
   ]
  },
  {
   "cell_type": "code",
   "execution_count": 14,
   "metadata": {
    "collapsed": false
   },
   "outputs": [
    {
     "data": {
      "text/plain": [
       "False"
      ]
     },
     "execution_count": 14,
     "metadata": {},
     "output_type": "execute_result"
    }
   ],
   "source": [
    "equal('121', '221')"
   ]
  },
  {
   "cell_type": "code",
   "execution_count": 15,
   "metadata": {
    "collapsed": true
   },
   "outputs": [],
   "source": [
    "d = '123456'\n",
    "_all = [i+j+k for i in d for j in d for k in d]"
   ]
  },
  {
   "cell_type": "code",
   "execution_count": 30,
   "metadata": {
    "collapsed": false
   },
   "outputs": [],
   "source": [
    "temp = []\n",
    "result1 = []\n",
    "for elm in _all:\n",
    "    if elm in temp:\n",
    "        continue\n",
    "    temp1 = []\n",
    "    for elm1 in _all:\n",
    "        if elm1 in temp:\n",
    "            continue\n",
    "        if equal(elm, elm1):\n",
    "            temp1.append(elm1)\n",
    "    temp.extend(temp1)\n",
    "    result1.append(temp1)"
   ]
  },
  {
   "cell_type": "code",
   "execution_count": 31,
   "metadata": {
    "collapsed": false
   },
   "outputs": [
    {
     "data": {
      "text/plain": [
       "56"
      ]
     },
     "execution_count": 31,
     "metadata": {},
     "output_type": "execute_result"
    }
   ],
   "source": [
    "len(result1)"
   ]
  },
  {
   "cell_type": "code",
   "execution_count": 32,
   "metadata": {
    "collapsed": false
   },
   "outputs": [
    {
     "data": {
      "text/plain": [
       "[['111'],\n",
       " ['112', '121', '211'],\n",
       " ['113', '131', '311'],\n",
       " ['114', '141', '411'],\n",
       " ['115', '151', '511'],\n",
       " ['116', '161', '611'],\n",
       " ['122', '212', '221'],\n",
       " ['123', '132', '213', '231', '312', '321'],\n",
       " ['124', '142', '214', '241', '412', '421'],\n",
       " ['125', '152', '215', '251', '512', '521'],\n",
       " ['126', '162', '216', '261', '612', '621'],\n",
       " ['133', '313', '331'],\n",
       " ['134', '143', '314', '341', '413', '431'],\n",
       " ['135', '153', '315', '351', '513', '531'],\n",
       " ['136', '163', '316', '361', '613', '631'],\n",
       " ['144', '414', '441'],\n",
       " ['145', '154', '415', '451', '514', '541'],\n",
       " ['146', '164', '416', '461', '614', '641'],\n",
       " ['155', '515', '551'],\n",
       " ['156', '165', '516', '561', '615', '651'],\n",
       " ['166', '616', '661'],\n",
       " ['222'],\n",
       " ['223', '232', '322'],\n",
       " ['224', '242', '422'],\n",
       " ['225', '252', '522'],\n",
       " ['226', '262', '622'],\n",
       " ['233', '323', '332'],\n",
       " ['234', '243', '324', '342', '423', '432'],\n",
       " ['235', '253', '325', '352', '523', '532'],\n",
       " ['236', '263', '326', '362', '623', '632'],\n",
       " ['244', '424', '442'],\n",
       " ['245', '254', '425', '452', '524', '542'],\n",
       " ['246', '264', '426', '462', '624', '642'],\n",
       " ['255', '525', '552'],\n",
       " ['256', '265', '526', '562', '625', '652'],\n",
       " ['266', '626', '662'],\n",
       " ['333'],\n",
       " ['334', '343', '433'],\n",
       " ['335', '353', '533'],\n",
       " ['336', '363', '633'],\n",
       " ['344', '434', '443'],\n",
       " ['345', '354', '435', '453', '534', '543'],\n",
       " ['346', '364', '436', '463', '634', '643'],\n",
       " ['355', '535', '553'],\n",
       " ['356', '365', '536', '563', '635', '653'],\n",
       " ['366', '636', '663'],\n",
       " ['444'],\n",
       " ['445', '454', '544'],\n",
       " ['446', '464', '644'],\n",
       " ['455', '545', '554'],\n",
       " ['456', '465', '546', '564', '645', '654'],\n",
       " ['466', '646', '664'],\n",
       " ['555'],\n",
       " ['556', '565', '655'],\n",
       " ['566', '656', '665'],\n",
       " ['666']]"
      ]
     },
     "execution_count": 32,
     "metadata": {},
     "output_type": "execute_result"
    }
   ],
   "source": [
    "result1"
   ]
  },
  {
   "cell_type": "markdown",
   "metadata": {},
   "source": [
    "解法二花了一晚上的时间才搞定。问题出在 temp1 = [ ] 的位置上，它应该置于内层 for loop 之外的，我之前把它放在内层 for loop 之内了！！！\n",
    "谨记：\n",
    "1. 如果计划用一个空 list 接收 for loop 中产生的数据，这个空列表必须置于 for loop 之外，否则 for loop 没执行一步， 这个列表就被清空，根本起不到接收器的作用。\n",
    "2. 要提高 debug 的能力，涉及到 loop 时，把中间步骤的结果 print 出来，有助于发现问题。"
   ]
  },
  {
   "cell_type": "code",
   "execution_count": null,
   "metadata": {
    "collapsed": true
   },
   "outputs": [],
   "source": []
  }
 ],
 "metadata": {
  "kernelspec": {
   "display_name": "Python 3",
   "language": "python",
   "name": "python3"
  },
  "language_info": {
   "codemirror_mode": {
    "name": "ipython",
    "version": 3
   },
   "file_extension": ".py",
   "mimetype": "text/x-python",
   "name": "python",
   "nbconvert_exporter": "python",
   "pygments_lexer": "ipython3",
   "version": "3.5.1"
  }
 },
 "nbformat": 4,
 "nbformat_minor": 0
}
