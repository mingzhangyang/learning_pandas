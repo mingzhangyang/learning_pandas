{
 "cells": [
  {
   "cell_type": "markdown",
   "metadata": {},
   "source": [
    "方法一：递归。看上去很美，但是效率实在太差！"
   ]
  },
  {
   "cell_type": "code",
   "execution_count": 1,
   "metadata": {
    "collapsed": true
   },
   "outputs": [],
   "source": [
    "def binominal(n):\n",
    "    if n == 1:\n",
    "        return [1, 1]\n",
    "    if n == 2:\n",
    "        return [1, 2, 1]\n",
    "    if n == 3:\n",
    "        return [1, 3, 3, 1]\n",
    "    if n == 4:\n",
    "        return [1, 4, 6, 4, 1]\n",
    "    if n == 5:\n",
    "        return [1, 5, 10, 10, 5, 1]\n",
    "    if n > 5:\n",
    "        temp = [(binominal(n-1)[i] + binominal(n-1)[i+1]) for i in range(n-1)]\n",
    "        return [1] +temp + [1]"
   ]
  },
  {
   "cell_type": "code",
   "execution_count": 2,
   "metadata": {
    "collapsed": false
   },
   "outputs": [
    {
     "data": {
      "text/plain": [
       "[1, 6, 15, 20, 15, 6, 1]"
      ]
     },
     "execution_count": 2,
     "metadata": {},
     "output_type": "execute_result"
    }
   ],
   "source": [
    "binominal(6)"
   ]
  },
  {
   "cell_type": "markdown",
   "metadata": {},
   "source": [
    "方法二：for loop + dict 接收数据"
   ]
  },
  {
   "cell_type": "code",
   "execution_count": 3,
   "metadata": {
    "collapsed": true
   },
   "outputs": [],
   "source": [
    "binorm = {\n",
    "    1:[1, 1],\n",
    "    2:[1, 2, 1],\n",
    "    3:[1, 3, 3, 1],\n",
    "    4:[1, 4, 6, 4, 1],\n",
    "    5:[1, 5, 10, 10, 5, 1]\n",
    "         }"
   ]
  },
  {
   "cell_type": "code",
   "execution_count": 4,
   "metadata": {
    "collapsed": false
   },
   "outputs": [],
   "source": [
    "for n in range(6, 201):\n",
    "    temp = [binorm[n-1][i] + binorm[n-1][i+1] for i in range(n-1)]\n",
    "    binorm[n] = [1] + temp + [1]\n",
    "        "
   ]
  },
  {
   "cell_type": "code",
   "execution_count": 5,
   "metadata": {
    "collapsed": false
   },
   "outputs": [
    {
     "data": {
      "text/plain": [
       "[1,\n",
       " 20,\n",
       " 190,\n",
       " 1140,\n",
       " 4845,\n",
       " 15504,\n",
       " 38760,\n",
       " 77520,\n",
       " 125970,\n",
       " 167960,\n",
       " 184756,\n",
       " 167960,\n",
       " 125970,\n",
       " 77520,\n",
       " 38760,\n",
       " 15504,\n",
       " 4845,\n",
       " 1140,\n",
       " 190,\n",
       " 20,\n",
       " 1]"
      ]
     },
     "execution_count": 5,
     "metadata": {},
     "output_type": "execute_result"
    }
   ],
   "source": [
    "binorm[20]"
   ]
  },
  {
   "cell_type": "markdown",
   "metadata": {},
   "source": [
    "## 根据二项式展开可以进行以下推算。"
   ]
  },
  {
   "cell_type": "markdown",
   "metadata": {},
   "source": [
    "一枚硬币抛 10 次，出现 6 次正面 4 次反面的概率为："
   ]
  },
  {
   "cell_type": "code",
   "execution_count": 6,
   "metadata": {
    "collapsed": false
   },
   "outputs": [
    {
     "name": "stdout",
     "output_type": "stream",
     "text": [
      "0.205078125\n"
     ]
    }
   ],
   "source": [
    "_10 = sum(binorm[10])\n",
    "_6_4 = binorm[10][4]\n",
    "print(_6_4/_10)"
   ]
  },
  {
   "cell_type": "markdown",
   "metadata": {},
   "source": [
    "一枚硬币抛 100 次，出现 60 次正面 40 次反面的概率为："
   ]
  },
  {
   "cell_type": "code",
   "execution_count": 7,
   "metadata": {
    "collapsed": false
   },
   "outputs": [
    {
     "name": "stdout",
     "output_type": "stream",
     "text": [
      "0.010843866711637987\n"
     ]
    }
   ],
   "source": [
    "_100 = sum(binorm[100])\n",
    "_60_40 = binorm[100][40]\n",
    "print(_60_40/_100)"
   ]
  },
  {
   "cell_type": "markdown",
   "metadata": {},
   "source": [
    "一枚硬币抛 200 次，出现 120 次正面 80 次反面的概率为："
   ]
  },
  {
   "cell_type": "code",
   "execution_count": 8,
   "metadata": {
    "collapsed": false
   },
   "outputs": [
    {
     "name": "stdout",
     "output_type": "stream",
     "text": [
      "0.0010251040221101832\n"
     ]
    }
   ],
   "source": [
    "_200 = sum(binorm[200])\n",
    "_120_80 = binorm[200][120]\n",
    "print(_120_80/_200)"
   ]
  },
  {
   "cell_type": "markdown",
   "metadata": {},
   "source": [
    "下面计算一枚硬币抛 10 次，出现各种情况的概率。"
   ]
  },
  {
   "cell_type": "code",
   "execution_count": 9,
   "metadata": {
    "collapsed": true
   },
   "outputs": [],
   "source": [
    "P_10 = {}\n",
    "sum_10 = sum(binorm[10])\n",
    "for i in range(10, -1, -1):\n",
    "    key = str(i) + '(+)' + str(10-i) + '(-)'\n",
    "    P_10[key] = binorm[10][i] / sum_10"
   ]
  },
  {
   "cell_type": "code",
   "execution_count": 10,
   "metadata": {
    "collapsed": false
   },
   "outputs": [
    {
     "name": "stdout",
     "output_type": "stream",
     "text": [
      "{'4(+)6(-)': 0.205078125, '3(+)7(-)': 0.1171875, '5(+)5(-)': 0.24609375, '7(+)3(-)': 0.1171875, '1(+)9(-)': 0.009765625, '2(+)8(-)': 0.0439453125, '8(+)2(-)': 0.0439453125, '0(+)10(-)': 0.0009765625, '10(+)0(-)': 0.0009765625, '9(+)1(-)': 0.009765625, '6(+)4(-)': 0.205078125}\n"
     ]
    }
   ],
   "source": [
    "print(P_10)"
   ]
  },
  {
   "cell_type": "code",
   "execution_count": 11,
   "metadata": {
    "collapsed": false
   },
   "outputs": [],
   "source": [
    "import numpy as np\n",
    "import pandas as pd\n",
    "import matplotlib.pyplot as plt\n",
    "%matplotlib inline"
   ]
  },
  {
   "cell_type": "code",
   "execution_count": 12,
   "metadata": {
    "collapsed": true
   },
   "outputs": [],
   "source": [
    "P_10_Series = pd.Series(P_10)"
   ]
  },
  {
   "cell_type": "code",
   "execution_count": 13,
   "metadata": {
    "collapsed": false
   },
   "outputs": [
    {
     "data": {
      "text/plain": [
       "0(+)10(-)    0.000977\n",
       "1(+)9(-)     0.009766\n",
       "10(+)0(-)    0.000977\n",
       "2(+)8(-)     0.043945\n",
       "3(+)7(-)     0.117188\n",
       "4(+)6(-)     0.205078\n",
       "5(+)5(-)     0.246094\n",
       "6(+)4(-)     0.205078\n",
       "7(+)3(-)     0.117188\n",
       "8(+)2(-)     0.043945\n",
       "9(+)1(-)     0.009766\n",
       "dtype: float64"
      ]
     },
     "execution_count": 13,
     "metadata": {},
     "output_type": "execute_result"
    }
   ],
   "source": [
    "P_10_Series"
   ]
  },
  {
   "cell_type": "code",
   "execution_count": 14,
   "metadata": {
    "collapsed": false
   },
   "outputs": [
    {
     "data": {
      "text/plain": [
       "Index(['0(+)10(-)', '1(+)9(-)', '10(+)0(-)', '2(+)8(-)', '3(+)7(-)',\n",
       "       '4(+)6(-)', '5(+)5(-)', '6(+)4(-)', '7(+)3(-)', '8(+)2(-)', '9(+)1(-)'],\n",
       "      dtype='object')"
      ]
     },
     "execution_count": 14,
     "metadata": {},
     "output_type": "execute_result"
    }
   ],
   "source": [
    "P_10_Series.index"
   ]
  },
  {
   "cell_type": "code",
   "execution_count": 15,
   "metadata": {
    "collapsed": true
   },
   "outputs": [],
   "source": [
    "new_index = ['0(+)10(-)', '1(+)9(-)', '2(+)8(-)', '3(+)7(-)',\n",
    "       '4(+)6(-)', '5(+)5(-)', '6(+)4(-)', '7(+)3(-)', '8(+)2(-)', '9(+)1(-)', '10(+)0(-)']"
   ]
  },
  {
   "cell_type": "code",
   "execution_count": 16,
   "metadata": {
    "collapsed": false
   },
   "outputs": [],
   "source": [
    "P_10_Series = P_10_Series.reindex(index=new_index)"
   ]
  },
  {
   "cell_type": "code",
   "execution_count": 17,
   "metadata": {
    "collapsed": false
   },
   "outputs": [
    {
     "data": {
      "text/plain": [
       "<matplotlib.axes._subplots.AxesSubplot at 0x7fb3e2c57b00>"
      ]
     },
     "execution_count": 17,
     "metadata": {},
     "output_type": "execute_result"
    },
    {
     "data": {
      "image/png": "[encoded data removed]",
      "text/plain": [
       "<matplotlib.figure.Figure at 0x7fb3e2c57240>"
      ]
     },
     "metadata": {},
     "output_type": "display_data"
    }
   ],
   "source": [
    "P_10_Series.plot(kind='bar' )"
   ]
  },
  {
   "cell_type": "code",
   "execution_count": 37,
   "metadata": {
    "collapsed": false
   },
   "outputs": [
    {
     "data": {
      "image/png": "[encoded data removed]",
      "text/plain": [
       "<matplotlib.figure.Figure at 0x7fb3dfa89c50>"
      ]
     },
     "metadata": {},
     "output_type": "display_data"
    }
   ],
   "source": [
    "X = np.arange(11)\n",
    "Y = P_10_Series.values\n",
    "fig = plt.figure()\n",
    "ax1 = fig.add_subplot(211)\n",
    "ax2 = fig.add_subplot(212)\n",
    "ax1.scatter(X, Y, s=100, color = 'w', marker = 's', edgecolors = 'r', linewidth = 3)\n",
    "ax2.bar(X-0.5, Y, color = 'green')\n",
    "fig.set_size_inches(8, 12)"
   ]
  },
  {
   "cell_type": "code",
   "execution_count": null,
   "metadata": {
    "collapsed": true
   },
   "outputs": [],
   "source": []
  }
 ],
 "metadata": {
  "kernelspec": {
   "display_name": "Python 3",
   "language": "python",
   "name": "python3"
  },
  "language_info": {
   "codemirror_mode": {
    "name": "ipython",
    "version": 3
   },
   "file_extension": ".py",
   "mimetype": "text/x-python",
   "name": "python",
   "nbconvert_exporter": "python",
   "pygments_lexer": "ipython3",
   "version": "3.5.1"
  }
 },
 "nbformat": 4,
 "nbformat_minor": 0
}
