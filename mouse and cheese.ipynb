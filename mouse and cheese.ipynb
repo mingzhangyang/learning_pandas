{
 "cells": [
  {
   "cell_type": "code",
   "execution_count": 1,
   "metadata": {
    "collapsed": true
   },
   "outputs": [],
   "source": [
    "def up(pos):\n",
    "    return (pos[0]-1, pos[1])\n",
    "def right(pos):\n",
    "    return (pos[0], pos[1]+1)\n",
    "def down(pos):\n",
    "    return (pos[0]+1, pos[1])\n",
    "def left(pos):\n",
    "    return (pos[0], pos[1]-1)"
   ]
  },
  {
   "cell_type": "code",
   "execution_count": 2,
   "metadata": {
    "collapsed": true
   },
   "outputs": [],
   "source": [
    "moves = {'up':up, 'down': down, 'right': right, 'left': left}"
   ]
  },
  {
   "cell_type": "code",
   "execution_count": 3,
   "metadata": {
    "collapsed": false
   },
   "outputs": [],
   "source": [
    "def mouse_next_step(mouse_position, cheese_position):\n",
    "    res = []\n",
    "    if mouse_position == cheese_position:\n",
    "        res.append('found cheese')\n",
    "    else:\n",
    "        for k in moves:\n",
    "            p = moves[k](mouse_position)\n",
    "            if p != cheese_position and p[0] >= 0 and p[1] >=0 and p[0] < 6 and p[1] < 6:\n",
    "                res.append(k)\n",
    "    return res\n"
   ]
  },
  {
   "cell_type": "code",
   "execution_count": 4,
   "metadata": {
    "collapsed": false
   },
   "outputs": [
    {
     "name": "stdout",
     "output_type": "stream",
     "text": [
      "['down']\n",
      "['right', 'up', 'left', 'down']\n",
      "['right', 'up', 'left', 'down']\n",
      "['right', 'up', 'left', 'down']\n",
      "['found cheese']\n"
     ]
    }
   ],
   "source": [
    "print(mouse_next_step((0, 0), (0, 1)))\n",
    "print(mouse_next_step((1, 2), (5, 5)))\n",
    "print(mouse_next_step((2, 3), (1, 2)))\n",
    "print(mouse_next_step((4, 3), (4, 1)))\n",
    "print(mouse_next_step((5, 5), (5, 5)))"
   ]
  },
  {
   "cell_type": "code",
   "execution_count": 5,
   "metadata": {
    "collapsed": true
   },
   "outputs": [],
   "source": [
    "def distance(p1, p2):\n",
    "    return abs(p1[0]-p2[0]) + abs(p1[1]-p2[1])\n",
    "\n",
    "def mouse_next_step_to_find_cheese(mouse_position, cheese_position):\n",
    "    res = []\n",
    "    if mouse_position == cheese_position:\n",
    "        res.append('found cheese')\n",
    "    else:\n",
    "        for k in moves:\n",
    "            p = moves[k](mouse_position)\n",
    "            if p == cheese_position:\n",
    "                res.append(k)\n",
    "                break\n",
    "            elif p[0] >= 0 and p[1] >=0 and p[0] < 6 and p[1] < 6:\n",
    "                if distance(p, cheese_position) < distance(mouse_position, cheese_position):\n",
    "                    res.append(k)\n",
    "    return res"
   ]
  },
  {
   "cell_type": "code",
   "execution_count": 6,
   "metadata": {
    "collapsed": false
   },
   "outputs": [
    {
     "name": "stdout",
     "output_type": "stream",
     "text": [
      "['right']\n",
      "['right', 'down']\n",
      "['up', 'left']\n",
      "['left']\n",
      "['found cheese']\n"
     ]
    }
   ],
   "source": [
    "print(mouse_next_step_to_find_cheese((0, 0), (0, 1)))\n",
    "print(mouse_next_step_to_find_cheese((1, 2), (5, 5)))\n",
    "print(mouse_next_step_to_find_cheese((2, 3), (1, 2)))\n",
    "print(mouse_next_step_to_find_cheese((4, 3), (4, 1)))\n",
    "print(mouse_next_step_to_find_cheese((5, 5), (5, 5)))"
   ]
  },
  {
   "cell_type": "code",
   "execution_count": null,
   "metadata": {
    "collapsed": true
   },
   "outputs": [],
   "source": []
  }
 ],
 "metadata": {
  "anaconda-cloud": {},
  "kernelspec": {
   "display_name": "Python [conda root]",
   "language": "python",
   "name": "conda-root-py"
  },
  "language_info": {
   "codemirror_mode": {
    "name": "ipython",
    "version": 3
   },
   "file_extension": ".py",
   "mimetype": "text/x-python",
   "name": "python",
   "nbconvert_exporter": "python",
   "pygments_lexer": "ipython3",
   "version": "3.5.2"
  }
 },
 "nbformat": 4,
 "nbformat_minor": 1
}
